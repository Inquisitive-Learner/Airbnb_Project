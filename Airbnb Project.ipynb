{
 "cells": [
  {
   "cell_type": "markdown",
   "id": "480f4722-dbf3-4561-b10d-11b1819d9297",
   "metadata": {},
   "source": [
    "<h1>AirBnB Project</h1>\n",
    "\n",
    "<b>Learning Outcomes:</b>\n",
    "\n",
    "- Learn how to translate business requirements into workable applications\n",
    "- Declare variables, and manipulate the variables to perform arithmetic operations\n",
    "- Create a list, append new elements to a list, remove elements from list, and access elements within a list\n",
    "- Create a dictionary, access data, and update information within the dictionary\n",
    "- Be able to aptly make use of if and nested if constructs\n",
    "- Variable conversion\n",
    "- Produce visualisations\n",
    "- Able to come up with insights based on the data "
   ]
  },
  {
   "cell_type": "code",
   "execution_count": 1,
   "id": "2de6191a-f037-438c-8f99-44de92c91244",
   "metadata": {
    "tags": []
   },
   "outputs": [
    {
     "data": {
      "text/plain": [
       "[{'listing_id': '1133718',\n",
       "  'survey_id': '1280',\n",
       "  'host_id': '6219420',\n",
       "  'room_type': 'Shared room',\n",
       "  'country': '',\n",
       "  'city': 'Singapore',\n",
       "  'borough': '',\n",
       "  'neighborhood': 'MK03',\n",
       "  'reviews': '9',\n",
       "  'overall_satisfaction': '4.5',\n",
       "  'accommodates': '12',\n",
       "  'bedrooms': '1.0',\n",
       "  'bathrooms': '',\n",
       "  'price': '74.0',\n",
       "  'minstay': '',\n",
       "  'last_modified': '2017-05-17 09:10:25.431659',\n",
       "  'latitude': '1.293354',\n",
       "  'longitude': '103.769226',\n",
       "  'location': '0101000020E6100000E84EB0FF3AF159409C69C2F693B1F43F'}]"
      ]
     },
     "execution_count": 1,
     "metadata": {},
     "output_type": "execute_result"
    }
   ],
   "source": [
    "# Read file into a list called airbnb_data\n",
    "import csv\n",
    "\n",
    "with open ('airbnb_data.csv') as file:\n",
    "    airbnb_data=[]\n",
    "    \n",
    "    for rows in csv.DictReader(file):\n",
    "        airbnb_data.append(dict(rows))\n",
    "        \n",
    "airbnb_data[:1]"
   ]
  },
  {
   "cell_type": "code",
   "execution_count": 2,
   "id": "18b39041-f91c-40e8-8e7e-f63f00cc65b2",
   "metadata": {
    "tags": []
   },
   "outputs": [
    {
     "data": {
      "text/plain": [
       "[{'listing_id': '1133718',\n",
       "  'survey_id': '1280',\n",
       "  'host_id': '6219420',\n",
       "  'room_type': 'Shared room',\n",
       "  'country': '',\n",
       "  'city': 'Singapore',\n",
       "  'borough': '',\n",
       "  'neighborhood': 'MK03',\n",
       "  'reviews': 9.0,\n",
       "  'overall_satisfaction': 4.5,\n",
       "  'accommodates': '12',\n",
       "  'bedrooms': '1.0',\n",
       "  'bathrooms': '',\n",
       "  'price': 74.0,\n",
       "  'minstay': '',\n",
       "  'last_modified': '2017-05-17 09:10:25.431659',\n",
       "  'latitude': 1.293354,\n",
       "  'longitude': 103.769226,\n",
       "  'location': '0101000020E6100000E84EB0FF3AF159409C69C2F693B1F43F'}]"
      ]
     },
     "execution_count": 2,
     "metadata": {},
     "output_type": "execute_result"
    }
   ],
   "source": [
    "# data cleaning of some of the data types\n",
    "\n",
    "for rows in airbnb_data:\n",
    "    rows['reviews']=float(rows['reviews'])\n",
    "    rows['overall_satisfaction']=float(rows['overall_satisfaction'])\n",
    "    rows['price']=float(rows['price'])\n",
    "    rows['latitude']=float(rows['latitude'])\n",
    "    rows['longitude']=float(rows['longitude'])\n",
    "    \n",
    "airbnb_data[:1]\n"
   ]
  },
  {
   "cell_type": "markdown",
   "id": "dcda8fec-ca25-4380-815d-1aa3453ad9f8",
   "metadata": {},
   "source": [
    "## Exploratory Data Analysis\n",
    "* List out each neighborhoods and their number of listings"
   ]
  },
  {
   "cell_type": "code",
   "execution_count": 3,
   "id": "6264f2f4-f6e0-4b4e-8de8-77520dbf2e3e",
   "metadata": {
    "tags": []
   },
   "outputs": [
    {
     "name": "stdout",
     "output_type": "stream",
     "text": [
      "342\n"
     ]
    }
   ],
   "source": [
    "neighbourhood_count={}\n",
    "\n",
    "for n in airbnb_data:\n",
    "    if n['neighborhood'] not in neighbourhood_count:\n",
    "        neighbourhood_count[n['neighborhood']]=1\n",
    "    else:\n",
    "        neighbourhood_count[n['neighborhood']]+=1\n",
    "\n",
    "print(neighbourhood_count['TS17'])"
   ]
  },
  {
   "cell_type": "markdown",
   "id": "f94699f7-3f0e-4e76-b7d8-123d158fa6a5",
   "metadata": {},
   "source": [
    "* List out each neighborhood and their average overall_satisfaction"
   ]
  },
  {
   "cell_type": "code",
   "execution_count": 4,
   "id": "22d946c4-4fed-4f3a-821c-73ef1b9124c5",
   "metadata": {
    "tags": []
   },
   "outputs": [
    {
     "name": "stdout",
     "output_type": "stream",
     "text": [
      "2.859447004608295\n"
     ]
    }
   ],
   "source": [
    "#Write code below\n",
    "neighborhood_satisfaction={}\n",
    "neighborhood_average={}\n",
    "for n in airbnb_data:\n",
    "    if n['reviews']!=0:\n",
    "        if n['neighborhood'] not in neighborhood_satisfaction:\n",
    "            neighborhood_satisfaction[n['neighborhood']]=[n['overall_satisfaction'],1]\n",
    "            \n",
    "        else:\n",
    "            neighborhood_satisfaction[n['neighborhood']][0]+=n['overall_satisfaction']\n",
    "            neighborhood_satisfaction[n['neighborhood']][1]+=1\n",
    "             \n",
    "#print(neighborhood_satisfaction)\n",
    "\n",
    "for k,i in neighborhood_satisfaction.items():\n",
    "    if k not in neighborhood_average:\n",
    "        neighborhood_average[k]=i[0]/i[1]\n",
    "             \n",
    "print(neighborhood_average['TS17'])"
   ]
  },
  {
   "cell_type": "markdown",
   "id": "96b20f9f-9c1d-4b10-bb9f-794023f767d0",
   "metadata": {},
   "source": [
    "* List out each neighborhood and their average price"
   ]
  },
  {
   "cell_type": "code",
   "execution_count": 5,
   "id": "51f0d923-7c23-46a0-bb67-77dddd571783",
   "metadata": {
    "tags": []
   },
   "outputs": [
    {
     "name": "stdout",
     "output_type": "stream",
     "text": [
      "95.5672514619883\n"
     ]
    }
   ],
   "source": [
    "\n",
    "neighborhood_price={}\n",
    "neighborhood_average_price={}\n",
    "\n",
    "for n in airbnb_data:\n",
    "    if n['neighborhood'] not in neighborhood_price:\n",
    "        neighborhood_price[n['neighborhood']]=[n['price'],1]\n",
    "    else:\n",
    "        neighborhood_price[n['neighborhood']][0]+=n['price']\n",
    "        neighborhood_price[n['neighborhood']][1]+=1\n",
    "\n",
    "#print(neighborhood_price)\n",
    "\n",
    "for k,i in neighborhood_price.items():\n",
    "    if k not in neighborhood_average_price:\n",
    "        neighborhood_average_price[k]=i[0]/i[1]\n",
    "        \n",
    "print(neighborhood_average_price['TS17'])"
   ]
  },
  {
   "cell_type": "markdown",
   "id": "90baf358-cf3f-4b2f-a34e-2d0ec886f589",
   "metadata": {},
   "source": [
    "* Plot a distribution of counts of the overall_satisfaction "
   ]
  },
  {
   "cell_type": "code",
   "execution_count": 6,
   "id": "2237db41-ca38-4b50-9cd3-fb4d763ffa01",
   "metadata": {
    "tags": []
   },
   "outputs": [
    {
     "data": {
      "image/png": "[encoded data removed]",
      "text/plain": [
       "<Figure size 640x480 with 1 Axes>"
      ]
     },
     "metadata": {},
     "output_type": "display_data"
    }
   ],
   "source": [
    "\n",
    "score_count={}\n",
    "\n",
    "for n in airbnb_data:\n",
    "    new=n['overall_satisfaction']\n",
    "    \n",
    "    if n['reviews']!=0:\n",
    "        if new not in score_count:\n",
    "            score_count[new]=1\n",
    "        else:\n",
    "            score_count[new]+=1\n",
    "#print(score_count)\n",
    "\n",
    "import matplotlib.pyplot as plt \n",
    "list4=sorted(score_count.items())\n",
    "x,y=zip(*list4)\n",
    "\n",
    "plt.bar(x,y)\n",
    "plt.title('Distribution of overall satisfaction scores')\n",
    "plt.xlabel('Overall satisfaction score')\n",
    "plt.ylabel('Counts')\n",
    "plt.show()"
   ]
  },
  {
   "cell_type": "markdown",
   "id": "ccc44430-7cf6-4282-9064-9447c97588ff",
   "metadata": {},
   "source": [
    "* Plot a geographical representation of all of the listings in Singapore"
   ]
  },
  {
   "cell_type": "code",
   "execution_count": 7,
   "id": "fed5331c-89c6-443d-b183-5d3e1d6189be",
   "metadata": {
    "tags": []
   },
   "outputs": [
    {
     "data": {
      "image/png": "[encoded data removed]",
      "text/plain": [
       "<Figure size 640x480 with 1 Axes>"
      ]
     },
     "metadata": {},
     "output_type": "display_data"
    }
   ],
   "source": [
    "locations_data={}\n",
    "\n",
    "for n in airbnb_data:\n",
    "    x=n['longitude']\n",
    "    y=n['latitude']\n",
    "    lid=n['listing_id']\n",
    "    \n",
    "    if lid not in locations_data:\n",
    "        locations_data[x]=y\n",
    "#print(locations_data)\n",
    "\n",
    "import matplotlib.pyplot as plt\n",
    "list5=locations_data.items()\n",
    "a,b=zip(*list5)\n",
    "plt.scatter(a,b)\n",
    "plt.title('Geographical representation of All Airbnb listings in Singapore')\n",
    "plt.xlabel('Longitude')\n",
    "plt.ylabel('Latitude')\n",
    "plt.show()"
   ]
  },
  {
   "cell_type": "markdown",
   "id": "8c3f7915-195d-464b-919c-6e3ebeee9232",
   "metadata": {
    "tags": []
   },
   "source": [
    "# AirBnB Visualisation and Price Recommender App\n",
    "<b> Develop an <b><i>app</i></b> which will serve the 2 main users:\n",
    "1. Guests\n",
    "    - Visualisation tool to recommend them the best listings based on price and overall satisfaction score in a neighborhood\n",
    "2. Hosts\n",
    "    - Recommend a price to set for their listing in a given neighborhood based on better performing listings\n",
    "\n",
    "<hr>\n",
    "    \n",
    "### `get_all_latitudes()` - Functions to get all latitudes given a list of listing_ids  "
   ]
  },
  {
   "cell_type": "code",
   "execution_count": 8,
   "id": "96c914a0-7fdf-48e0-b42f-a41e77e2efee",
   "metadata": {
    "tags": []
   },
   "outputs": [
    {
     "data": {
      "text/plain": [
       "[1.305702, 1.296138, 1.304393]"
      ]
     },
     "execution_count": 8,
     "metadata": {},
     "output_type": "execute_result"
    }
   ],
   "source": [
    "data=airbnb_data\n",
    "#data[:1]\n",
    "\n",
    "def get_all_latitude(data,list1):\n",
    "    latitudes_id=[]\n",
    "    for n in data:\n",
    "        for i in list1:\n",
    "            if i==n['listing_id']:\n",
    "                latitudes_id.append(n['latitude'])\n",
    "    return latitudes_id\n",
    "get_all_latitude(airbnb_data, ['10350448','13507262','13642646'])"
   ]
  },
  {
   "cell_type": "markdown",
   "id": "62f02d3a-046a-4346-a1d5-63f3179724ab",
   "metadata": {},
   "source": [
    "### `get_all_longitudes()` - Functions to get all longitudes given a list of listing_ids "
   ]
  },
  {
   "cell_type": "code",
   "execution_count": 9,
   "id": "7d94d911-792c-4f4a-92df-18204c91317b",
   "metadata": {
    "tags": []
   },
   "outputs": [
    {
     "data": {
      "text/plain": [
       "[103.79878, 103.767841, 103.784174]"
      ]
     },
     "execution_count": 9,
     "metadata": {},
     "output_type": "execute_result"
    }
   ],
   "source": [
    "def get_all_longitude(data,list2):\n",
    "    longitudes_id=[]\n",
    "    for n in data:\n",
    "        for i in list2:\n",
    "            if i==n['listing_id']:\n",
    "                longitudes_id.append(n['longitude'])\n",
    "    return longitudes_id\n",
    "get_all_longitude(airbnb_data, ['10350448','13507262','13642646'])"
   ]
  },
  {
   "cell_type": "markdown",
   "id": "5448e20c-269c-4bc2-9aed-91c16afb1111",
   "metadata": {},
   "source": [
    "### `listings_recommender()` - Function to recommend all listings based on a given price, satisfaction score and neighborhood "
   ]
  },
  {
   "cell_type": "code",
   "execution_count": 10,
   "id": "a8937c6c-ed55-47b9-80cf-06039ef8853d",
   "metadata": {
    "tags": []
   },
   "outputs": [
    {
     "data": {
      "text/plain": [
       "['10350448',\n",
       " '13507262',\n",
       " '13642646',\n",
       " '15099645',\n",
       " '6451493',\n",
       " '4696031',\n",
       " '2898794',\n",
       " '13181050',\n",
       " '9022211',\n",
       " '5200263',\n",
       " '6529707',\n",
       " '14433262']"
      ]
     },
     "execution_count": 10,
     "metadata": {},
     "output_type": "execute_result"
    }
   ],
   "source": [
    "def listings_recommender(data, price, score, nid):\n",
    "    results1=[]\n",
    "    \n",
    "    for n in data:\n",
    "        if n['price']<=price:\n",
    "            if n['overall_satisfaction']>=score:\n",
    "                if n['neighborhood']==nid:\n",
    "                    results1.append(n['listing_id'])\n",
    "    return results1\n",
    "listings_recommender(airbnb_data, 60, 5, 'MK03')"
   ]
  },
  {
   "cell_type": "markdown",
   "id": "21866e3c-89e4-4679-a99a-93b07c915392",
   "metadata": {},
   "source": [
    "### `price_recommender()` - Function to recommend a price in a neighborhood based on average price and overall satisfaction "
   ]
  },
  {
   "cell_type": "code",
   "execution_count": 11,
   "id": "a3f0c48c-692a-4c5c-9cda-4842b04c3a62",
   "metadata": {
    "tags": []
   },
   "outputs": [
    {
     "data": {
      "text/plain": [
       "66.28"
      ]
     },
     "execution_count": 11,
     "metadata": {},
     "output_type": "execute_result"
    }
   ],
   "source": [
    "def price_recommender(data,nid2):\n",
    "    nid_price_count={}\n",
    "    \n",
    "    for n in data:\n",
    "        if n['reviews']>=1 and n['overall_satisfaction']>=4:\n",
    "            if nid2==n['neighborhood']:\n",
    "                if nid2 not in nid_price_count:\n",
    "                    nid_price_count[nid2]=[n['price'],1]\n",
    "                else:\n",
    "                    nid_price_count[nid2][0]+=n['price']\n",
    "                    nid_price_count[nid2][1]+=1\n",
    "                    \n",
    "    return round(nid_price_count[nid2][0]/nid_price_count[nid2][1],2)\n",
    "\n",
    "price_recommender(airbnb_data, 'TS17')\n"
   ]
  },
  {
   "cell_type": "markdown",
   "id": "77f7be03-c344-42d8-a545-2bc07d30af20",
   "metadata": {},
   "source": [
    "### `visualise_listings()` - Function to geographically visualise a given list of listings "
   ]
  },
  {
   "cell_type": "code",
   "execution_count": 13,
   "id": "336e3c80-5204-4273-9990-c11134c4e365",
   "metadata": {
    "tags": []
   },
   "outputs": [],
   "source": [
    "import mplleaflet\n",
    "import matplotlib.pyplot as plt\n",
    "\n",
    "def visualise_listings(data, list3):\n",
    "    longitude_list=[]\n",
    "    latitude_list=[]\n",
    "    \n",
    "    longitude_list.append(get_all_longitude(data,list3))\n",
    "    latitude_list.append(get_all_latitude(data,list3))\n",
    "    \n",
    "    plt.scatter(longitude_list,latitude_list, marker='*', s=1000,color ='red')\n",
    "    mplleaflet.show()\n",
    "    \n",
    "# visualise_listings(airbnb_data, ['10350448','13507262','13642646'])"
   ]
  },
  {
   "cell_type": "markdown",
   "id": "76b42080-78b7-46f4-973e-ba435bb37746",
   "metadata": {},
   "source": [
    "<img src=\"https://i.imgur.com/HwQYouJ.jpg\" width=\"400\">"
   ]
  },
  {
   "cell_type": "code",
   "execution_count": 14,
   "id": "d707928f-a51a-415c-8372-213ab6b7a8df",
   "metadata": {
    "tags": []
   },
   "outputs": [
    {
     "data": {
      "text/plain": [
       "98.52"
      ]
     },
     "execution_count": 14,
     "metadata": {},
     "output_type": "execute_result"
    }
   ],
   "source": [
    "neighborhood_to_test = 'TS23'\n",
    "\n",
    "#Write code below\n",
    "price_recommender(airbnb_data,neighborhood_to_test)"
   ]
  },
  {
   "cell_type": "code",
   "execution_count": 15,
   "id": "383c6ef8-e885-4513-b320-3ecf449be1c3",
   "metadata": {
    "tags": []
   },
   "outputs": [],
   "source": [
    "neighborhood_to_test = 'TS17'\n",
    "price_to_test = 100\n",
    "overall_satisfaction_to_test = 4\n",
    "\n",
    "\n",
    "# visualise_listings(airbnb_data,listings_recommender(airbnb_data,price_to_test,overall_satisfaction_to_test,neighborhood_to_test))"
   ]
  },
  {
   "cell_type": "markdown",
   "id": "747c4de6-abd0-4ff7-a35c-7505c35e5fd2",
   "metadata": {},
   "source": [
    "<img src=\"https://i.imgur.com/MnyhDmL.jpg\" width=400>"
   ]
  }
 ],
 "metadata": {
  "kernelspec": {
   "display_name": "Python 3 (ipykernel)",
   "language": "python",
   "name": "python3"
  },
  "language_info": {
   "codemirror_mode": {
    "name": "ipython",
    "version": 3
   },
   "file_extension": ".py",
   "mimetype": "text/x-python",
   "name": "python",
   "nbconvert_exporter": "python",
   "pygments_lexer": "ipython3",
   "version": "3.11.4"
  }
 },
 "nbformat": 4,
 "nbformat_minor": 5
}
